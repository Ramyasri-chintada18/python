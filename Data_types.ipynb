{
  "nbformat": 4,
  "nbformat_minor": 0,
  "metadata": {
    "colab": {
      "provenance": [],
      "toc_visible": true,
      "authorship_tag": "ABX9TyPe8kemPf53xnzvVkaSHx7e",
      "include_colab_link": true
    },
    "kernelspec": {
      "name": "python3",
      "display_name": "Python 3"
    },
    "language_info": {
      "name": "python"
    }
  },
  "cells": [
    {
      "cell_type": "markdown",
      "metadata": {
        "id": "view-in-github",
        "colab_type": "text"
      },
      "source": [
        "<a href=\"https://colab.research.google.com/github/Ramyasri-chintada18/python/blob/main/Data_types.ipynb\" target=\"_parent\"><img src=\"https://colab.research.google.com/assets/colab-badge.svg\" alt=\"Open In Colab\"/></a>"
      ]
    },
    {
      "cell_type": "code",
      "execution_count": null,
      "metadata": {
        "id": "ESR876qIL5Ai"
      },
      "outputs": [],
      "source": [
        "#data type\n",
        "#dataa type defined that which type of data is stored"
      ]
    },
    {
      "cell_type": "code",
      "source": [
        "##DATA TYPES\n",
        "#int\n",
        "#float\n",
        "#string\n",
        "#complex\n",
        "#list\n",
        "#tuple\n",
        "#set\n",
        "#dict\n",
        "#boolean"
      ],
      "metadata": {
        "id": "5YI_XvMhMLsE"
      },
      "execution_count": null,
      "outputs": []
    },
    {
      "cell_type": "code",
      "source": [
        "#Integer[int()]\n",
        "#integer contains any numeric values\n",
        "#example\n",
        "x=20\n",
        "print(x)\n",
        "type(x)"
      ],
      "metadata": {
        "colab": {
          "base_uri": "https://localhost:8080/"
        },
        "id": "3J6g2P4BMj-x",
        "outputId": "c2c05f34-9f93-462f-dc08-bd66c8a39c7c"
      },
      "execution_count": null,
      "outputs": [
        {
          "output_type": "stream",
          "name": "stdout",
          "text": [
            "20\n"
          ]
        },
        {
          "output_type": "execute_result",
          "data": {
            "text/plain": [
              "int"
            ]
          },
          "metadata": {},
          "execution_count": 6
        }
      ]
    },
    {
      "cell_type": "code",
      "source": [
        "#float()\n",
        "#float contains decimals and numeric values\n",
        "#examples\n",
        "x=3.7\n",
        "print(x)\n",
        "type(x)"
      ],
      "metadata": {
        "colab": {
          "base_uri": "https://localhost:8080/"
        },
        "id": "LWoD-GbLNVz_",
        "outputId": "be0ec4c9-9c82-473e-9df0-82905a020f17"
      },
      "execution_count": null,
      "outputs": [
        {
          "output_type": "stream",
          "name": "stdout",
          "text": [
            "3.7\n"
          ]
        },
        {
          "output_type": "execute_result",
          "data": {
            "text/plain": [
              "float"
            ]
          },
          "metadata": {},
          "execution_count": 8
        }
      ]
    },
    {
      "cell_type": "code",
      "source": [
        "#string[str()]\n",
        "#string contains anything with in the \"  \"(double codes)\n",
        "#anything writen in string it is considr as a string\n",
        "#example\n",
        "x=\"ramya\"\n",
        "print(x)\n",
        "type(x)"
      ],
      "metadata": {
        "colab": {
          "base_uri": "https://localhost:8080/"
        },
        "id": "pJpIW7GrNzmo",
        "outputId": "d2477f56-664d-4273-d74a-44ad77802326"
      },
      "execution_count": null,
      "outputs": [
        {
          "output_type": "stream",
          "name": "stdout",
          "text": [
            "ramya\n"
          ]
        },
        {
          "output_type": "execute_result",
          "data": {
            "text/plain": [
              "str"
            ]
          },
          "metadata": {},
          "execution_count": 10
        }
      ]
    },
    {
      "cell_type": "code",
      "source": [
        "#complex()\n",
        "#complex number is denoted as 'a+ib' ,3+4i\n",
        "x=3+i7\n",
        "print(x)\n",
        "type(x)"
      ],
      "metadata": {
        "colab": {
          "base_uri": "https://localhost:8080/",
          "height": 211
        },
        "id": "u7aKhPe6OjxL",
        "outputId": "da661df5-87b9-4229-eb23-aaab108b6080"
      },
      "execution_count": null,
      "outputs": [
        {
          "output_type": "error",
          "ename": "NameError",
          "evalue": "name 'i7' is not defined",
          "traceback": [
            "\u001b[0;31m---------------------------------------------------------------------------\u001b[0m",
            "\u001b[0;31mNameError\u001b[0m                                 Traceback (most recent call last)",
            "\u001b[0;32m/tmp/ipython-input-13-2950706885.py\u001b[0m in \u001b[0;36m<cell line: 0>\u001b[0;34m()\u001b[0m\n\u001b[1;32m      1\u001b[0m \u001b[0;31m#complex()\u001b[0m\u001b[0;34m\u001b[0m\u001b[0;34m\u001b[0m\u001b[0m\n\u001b[1;32m      2\u001b[0m \u001b[0;31m#complex number is denoted as 'a+ib' ,3+4i\u001b[0m\u001b[0;34m\u001b[0m\u001b[0;34m\u001b[0m\u001b[0m\n\u001b[0;32m----> 3\u001b[0;31m \u001b[0mx\u001b[0m\u001b[0;34m=\u001b[0m\u001b[0;36m3\u001b[0m\u001b[0;34m+\u001b[0m\u001b[0mi7\u001b[0m\u001b[0;34m\u001b[0m\u001b[0;34m\u001b[0m\u001b[0m\n\u001b[0m\u001b[1;32m      4\u001b[0m \u001b[0mprint\u001b[0m\u001b[0;34m(\u001b[0m\u001b[0mx\u001b[0m\u001b[0;34m)\u001b[0m\u001b[0;34m\u001b[0m\u001b[0;34m\u001b[0m\u001b[0m\n\u001b[1;32m      5\u001b[0m \u001b[0mtype\u001b[0m\u001b[0;34m(\u001b[0m\u001b[0mx\u001b[0m\u001b[0;34m)\u001b[0m\u001b[0;34m\u001b[0m\u001b[0;34m\u001b[0m\u001b[0m\n",
            "\u001b[0;31mNameError\u001b[0m: name 'i7' is not defined"
          ]
        }
      ]
    },
    {
      "cell_type": "code",
      "source": [
        "#list()\n",
        "#list is mutable/changable\n",
        "#list is defined with square brackets[]\n",
        "#it is odered\n",
        "#it allows duplicates\n",
        "x=[\"ramya\",\"nandhu\",\"pennu\"]\n",
        "print(x)\n",
        "type(x)"
      ],
      "metadata": {
        "colab": {
          "base_uri": "https://localhost:8080/"
        },
        "id": "3Iusz__pPMhQ",
        "outputId": "4e346905-bfd2-46ec-e772-8b2af8839464"
      },
      "execution_count": null,
      "outputs": [
        {
          "output_type": "stream",
          "name": "stdout",
          "text": [
            "['ramya', 'nandhu', 'pennu']\n"
          ]
        },
        {
          "output_type": "execute_result",
          "data": {
            "text/plain": [
              "list"
            ]
          },
          "metadata": {},
          "execution_count": 17
        }
      ]
    },
    {
      "cell_type": "code",
      "source": [
        "#tuple()\n",
        "#tuple is defined with duplicates\n",
        "#it stores deferent types of data\n",
        "#it is unchangable\n",
        "x=(1,2,3,4,\"ramya\")\n",
        "print(x)\n",
        "type(x)"
      ],
      "metadata": {
        "colab": {
          "base_uri": "https://localhost:8080/"
        },
        "id": "7IkG4zF5QDx8",
        "outputId": "1a69099d-5b6d-4a60-86c5-1bdaafe18821"
      },
      "execution_count": null,
      "outputs": [
        {
          "output_type": "stream",
          "name": "stdout",
          "text": [
            "(1, 2, 3, 4, 'ramya')\n"
          ]
        },
        {
          "output_type": "execute_result",
          "data": {
            "text/plain": [
              "tuple"
            ]
          },
          "metadata": {},
          "execution_count": 19
        }
      ]
    },
    {
      "cell_type": "code",
      "source": [
        "#dictionary\n",
        "#it is the pair of keys and values\n",
        "#it is denoted with flower beakets\n",
        "x={\"name\":\"ramya\",\"age\":18}\n",
        "print(x)\n",
        "print(x.keys())\n",
        "print(x.values())\n",
        "print(x. items())\n",
        "print(x.pop(\"name\"))\n",
        "print(x. update({\"coures\":\"python\"}))\n",
        "type(x)"
      ],
      "metadata": {
        "colab": {
          "base_uri": "https://localhost:8080/"
        },
        "id": "FV6O1UnSQp0f",
        "outputId": "79d2ef22-4e2b-4e36-db55-4297118ec381"
      },
      "execution_count": null,
      "outputs": [
        {
          "output_type": "stream",
          "name": "stdout",
          "text": [
            "{'name': 'ramya', 'age': 18}\n",
            "dict_keys(['name', 'age'])\n",
            "dict_values(['ramya', 18])\n",
            "dict_items([('name', 'ramya'), ('age', 18)])\n",
            "ramya\n",
            "None\n"
          ]
        },
        {
          "output_type": "execute_result",
          "data": {
            "text/plain": [
              "dict"
            ]
          },
          "metadata": {},
          "execution_count": 23
        }
      ]
    },
    {
      "cell_type": "code",
      "source": [
        "#set()\n",
        "#the no of elements stored in flower brackets\n",
        "#it is unodered\n",
        "#example\n",
        "x={\"ramya\",\"nandhu\",\"pennu\"}\n",
        "print(x)\n",
        "type(x)"
      ],
      "metadata": {
        "colab": {
          "base_uri": "https://localhost:8080/"
        },
        "id": "ANAlsW_FVdJS",
        "outputId": "9e80d0b9-bbd5-46c3-c7b7-a0345bd412a7"
      },
      "execution_count": null,
      "outputs": [
        {
          "output_type": "stream",
          "name": "stdout",
          "text": [
            "{'pennu', 'ramya', 'nandhu'}\n"
          ]
        },
        {
          "output_type": "execute_result",
          "data": {
            "text/plain": [
              "set"
            ]
          },
          "metadata": {},
          "execution_count": 25
        }
      ]
    },
    {
      "cell_type": "code",
      "source": [
        "#boolean[bool()]\n",
        "#boolean says true (or) false\n",
        "#if the given condition is true print true else print false\n",
        "x=True\n",
        "print(x)\n",
        "type(x)"
      ],
      "metadata": {
        "colab": {
          "base_uri": "https://localhost:8080/"
        },
        "id": "eopPQvlRX0G9",
        "outputId": "778a3da0-023e-44f9-b4ac-f087329b21e8"
      },
      "execution_count": null,
      "outputs": [
        {
          "output_type": "stream",
          "name": "stdout",
          "text": [
            "True\n"
          ]
        },
        {
          "output_type": "execute_result",
          "data": {
            "text/plain": [
              "bool"
            ]
          },
          "metadata": {},
          "execution_count": 28
        }
      ]
    },
    {
      "cell_type": "code",
      "source": [],
      "metadata": {
        "id": "xmxyNqJjY8hH"
      },
      "execution_count": null,
      "outputs": []
    }
  ]
}