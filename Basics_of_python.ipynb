{
  "nbformat": 4,
  "nbformat_minor": 0,
  "metadata": {
    "colab": {
      "provenance": [],
      "authorship_tag": "ABX9TyPpmNH623jfh9l1NAhTYvZu",
      "include_colab_link": true
    },
    "kernelspec": {
      "name": "python3",
      "display_name": "Python 3"
    },
    "language_info": {
      "name": "python"
    }
  },
  "cells": [
    {
      "cell_type": "markdown",
      "metadata": {
        "id": "view-in-github",
        "colab_type": "text"
      },
      "source": [
        "<a href=\"https://colab.research.google.com/github/Ramyasri-chintada18/python/blob/main/Basics_of_python.ipynb\" target=\"_parent\"><img src=\"https://colab.research.google.com/assets/colab-badge.svg\" alt=\"Open In Colab\"/></a>"
      ]
    },
    {
      "cell_type": "code",
      "execution_count": null,
      "metadata": {
        "id": "JA-PIMVNeTEx"
      },
      "outputs": [],
      "source": [
        "#python is a popular programing language\n",
        "#python is created by gudio van rossum in 1991\n",
        "#python is used for web development,software development,mathematics,sytsem scripting\n",
        "#python is interpreter that is it checks the code line by line.if in particular line error is defined exicution is stoped in that line\n",
        "#python extantion is (.py)"
      ]
    },
    {
      "cell_type": "code",
      "source": [
        "#syntax\n",
        "print(\"hellow world\")"
      ],
      "metadata": {
        "colab": {
          "base_uri": "https://localhost:8080/"
        },
        "id": "aL4P-O0Vez_E",
        "outputId": "d444e65a-7550-4710-c574-62d9e844cba6"
      },
      "execution_count": null,
      "outputs": [
        {
          "output_type": "stream",
          "name": "stdout",
          "text": [
            "hellow world\n"
          ]
        }
      ]
    },
    {
      "cell_type": "code",
      "source": [
        "#comments\n",
        "#cpmments can be used to explain python code\n",
        "#comments are two types\n",
        "#single and multi line comments\n",
        "#single line comments is starts with '#'\n",
        "#multi line comments starts with\"///      ///\""
      ],
      "metadata": {
        "id": "L-Eqmk8tgCxL"
      },
      "execution_count": null,
      "outputs": []
    },
    {
      "cell_type": "code",
      "source": [
        "#variables\n",
        "# vsriables must starts with letters or underscores\n",
        "#variables can not starts with numbers\n",
        "#variables can only contains alphabets,numbers,underscores\n",
        "#variables names are case sensitive\n",
        "# varisbles can not be any of the python keywords"
      ],
      "metadata": {
        "id": "cvXiLYfLgyxx"
      },
      "execution_count": null,
      "outputs": []
    },
    {
      "cell_type": "code",
      "source": [
        "#syntax\n",
        "myname=\"ramya\"\n",
        "my_name=\"ramya\"\n",
        "_myname20=\"ramya\""
      ],
      "metadata": {
        "id": "7U5aDcEThlNL"
      },
      "execution_count": 3,
      "outputs": []
    },
    {
      "cell_type": "code",
      "source": [],
      "metadata": {
        "id": "VZxOJlXxLQ-K"
      },
      "execution_count": null,
      "outputs": []
    }
  ]
}