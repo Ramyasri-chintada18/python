{
  "nbformat": 4,
  "nbformat_minor": 0,
  "metadata": {
    "colab": {
      "provenance": [],
      "authorship_tag": "ABX9TyMmC1DOg7qdsyrWuhc/Sj7B",
      "include_colab_link": true
    },
    "kernelspec": {
      "name": "python3",
      "display_name": "Python 3"
    },
    "language_info": {
      "name": "python"
    }
  },
  "cells": [
    {
      "cell_type": "markdown",
      "metadata": {
        "id": "view-in-github",
        "colab_type": "text"
      },
      "source": [
        "<a href=\"https://colab.research.google.com/github/Ramyasri-chintada18/python/blob/main/Python_2nd_year.ipynb\" target=\"_parent\"><img src=\"https://colab.research.google.com/assets/colab-badge.svg\" alt=\"Open In Colab\"/></a>"
      ]
    },
    {
      "cell_type": "code",
      "execution_count": null,
      "metadata": {
        "colab": {
          "base_uri": "https://localhost:8080/"
        },
        "id": "a3Ox58Bd4Tuq",
        "outputId": "bed5e3ad-f2af-46a6-d350-64b66e6a0ef3"
      },
      "outputs": [
        {
          "output_type": "stream",
          "name": "stdout",
          "text": [
            "2\n"
          ]
        },
        {
          "output_type": "execute_result",
          "data": {
            "text/plain": [
              "int"
            ]
          },
          "metadata": {},
          "execution_count": 2
        }
      ],
      "source": [
        "x=2\n",
        "print(x)\n",
        "type(x)"
      ]
    },
    {
      "cell_type": "code",
      "source": [
        "x=0.3\n",
        "print(x)\n",
        "type(x)"
      ],
      "metadata": {
        "colab": {
          "base_uri": "https://localhost:8080/"
        },
        "id": "KuPEvcl-4pAx",
        "outputId": "5c6f0372-a9c5-4965-ee8f-4c0af925c601"
      },
      "execution_count": null,
      "outputs": [
        {
          "output_type": "stream",
          "name": "stdout",
          "text": [
            "0.3\n"
          ]
        },
        {
          "output_type": "execute_result",
          "data": {
            "text/plain": [
              "float"
            ]
          },
          "metadata": {},
          "execution_count": 3
        }
      ]
    },
    {
      "cell_type": "code",
      "source": [
        "x=\"abc\"\n",
        "print(x)\n",
        "type(x)"
      ],
      "metadata": {
        "colab": {
          "base_uri": "https://localhost:8080/"
        },
        "id": "vdLLLjge40Ea",
        "outputId": "2b530a12-b724-4dde-9ece-84cbee54a961"
      },
      "execution_count": null,
      "outputs": [
        {
          "output_type": "stream",
          "name": "stdout",
          "text": [
            "abc\n"
          ]
        },
        {
          "output_type": "execute_result",
          "data": {
            "text/plain": [
              "str"
            ]
          },
          "metadata": {},
          "execution_count": 4
        }
      ]
    },
    {
      "cell_type": "code",
      "source": [
        "x=1+3j\n",
        "print(x)\n",
        "type(x)"
      ],
      "metadata": {
        "colab": {
          "base_uri": "https://localhost:8080/"
        },
        "id": "lIPzNAEY4_KK",
        "outputId": "80b7a875-7ec1-4982-9bef-1563fd207990"
      },
      "execution_count": null,
      "outputs": [
        {
          "output_type": "stream",
          "name": "stdout",
          "text": [
            "(1+3j)\n"
          ]
        },
        {
          "output_type": "execute_result",
          "data": {
            "text/plain": [
              "complex"
            ]
          },
          "metadata": {},
          "execution_count": 32
        }
      ]
    },
    {
      "cell_type": "code",
      "source": [
        "x=(1,2)\n",
        "print(x)\n",
        "type(x)"
      ],
      "metadata": {
        "colab": {
          "base_uri": "https://localhost:8080/"
        },
        "id": "AKtSeNM05e9Q",
        "outputId": "c8ff144b-2f1f-476f-f0d2-e4ae07733ccd"
      },
      "execution_count": null,
      "outputs": [
        {
          "output_type": "stream",
          "name": "stdout",
          "text": [
            "(1, 2)\n"
          ]
        },
        {
          "output_type": "execute_result",
          "data": {
            "text/plain": [
              "tuple"
            ]
          },
          "metadata": {},
          "execution_count": 16
        }
      ]
    },
    {
      "cell_type": "code",
      "source": [
        "x=[1,2]\n",
        "print(x)\n",
        "type(x)"
      ],
      "metadata": {
        "colab": {
          "base_uri": "https://localhost:8080/"
        },
        "id": "UtOOcU0B5tBn",
        "outputId": "c05a4669-0198-4f24-b012-9aabad914ef9"
      },
      "execution_count": null,
      "outputs": [
        {
          "output_type": "stream",
          "name": "stdout",
          "text": [
            "[1, 2]\n"
          ]
        },
        {
          "output_type": "execute_result",
          "data": {
            "text/plain": [
              "list"
            ]
          },
          "metadata": {},
          "execution_count": 20
        }
      ]
    },
    {
      "cell_type": "code",
      "source": [
        "x={1,2,3}\n",
        "print(x)\n",
        "type(x)"
      ],
      "metadata": {
        "colab": {
          "base_uri": "https://localhost:8080/"
        },
        "id": "-g55Gk3o6Tly",
        "outputId": "9f05720a-0d80-4177-95f5-d933e846de90"
      },
      "execution_count": null,
      "outputs": [
        {
          "output_type": "stream",
          "name": "stdout",
          "text": [
            "{1, 2, 3}\n"
          ]
        },
        {
          "output_type": "execute_result",
          "data": {
            "text/plain": [
              "set"
            ]
          },
          "metadata": {},
          "execution_count": 22
        }
      ]
    },
    {
      "cell_type": "code",
      "source": [
        "x={1,1,2,3}\n",
        "print(x)\n",
        "type(x)"
      ],
      "metadata": {
        "colab": {
          "base_uri": "https://localhost:8080/"
        },
        "id": "B4NRZ9VU6r25",
        "outputId": "36cd650b-ae3f-428d-b776-3698796e24c6"
      },
      "execution_count": null,
      "outputs": [
        {
          "output_type": "stream",
          "name": "stdout",
          "text": [
            "{1, 2, 3}\n"
          ]
        },
        {
          "output_type": "execute_result",
          "data": {
            "text/plain": [
              "set"
            ]
          },
          "metadata": {},
          "execution_count": 23
        }
      ]
    },
    {
      "cell_type": "code",
      "source": [
        "x=\"\"\n",
        "print(x)\n",
        "type(x)"
      ],
      "metadata": {
        "colab": {
          "base_uri": "https://localhost:8080/"
        },
        "id": "nZBB08Ui69du",
        "outputId": "3a67abf1-9f50-448d-9d27-1fc1b6ebd030"
      },
      "execution_count": null,
      "outputs": [
        {
          "output_type": "stream",
          "name": "stdout",
          "text": [
            "\n"
          ]
        },
        {
          "output_type": "execute_result",
          "data": {
            "text/plain": [
              "str"
            ]
          },
          "metadata": {},
          "execution_count": 25
        }
      ]
    },
    {
      "cell_type": "code",
      "source": [
        "x=3\n",
        "x=\"sally\"\n",
        "print(x)"
      ],
      "metadata": {
        "colab": {
          "base_uri": "https://localhost:8080/"
        },
        "id": "e6dUEImL52r9",
        "outputId": "8ea1c093-3040-48f0-b69d-4996c699447b"
      },
      "execution_count": null,
      "outputs": [
        {
          "output_type": "stream",
          "name": "stdout",
          "text": [
            "sally\n"
          ]
        }
      ]
    },
    {
      "cell_type": "code",
      "source": [
        "#Area of triangle\n",
        "h=2\n",
        "b=6\n",
        "area=0.5*h*b\n",
        "print(area)"
      ],
      "metadata": {
        "colab": {
          "base_uri": "https://localhost:8080/"
        },
        "id": "rp8NxB1PCDEU",
        "outputId": "cc579e0e-483d-4b64-8ebc-30e653f51063"
      },
      "execution_count": null,
      "outputs": [
        {
          "output_type": "stream",
          "name": "stdout",
          "text": [
            "6.0\n"
          ]
        }
      ]
    },
    {
      "cell_type": "code",
      "source": [
        "#Area of rectangle\n",
        "l=2\n",
        "b=7\n",
        "area=l*b\n",
        "print(area)"
      ],
      "metadata": {
        "colab": {
          "base_uri": "https://localhost:8080/"
        },
        "id": "XqBCJq9hCdnG",
        "outputId": "f6bd41ae-d41e-46c8-d22b-e3f4fda821eb"
      },
      "execution_count": null,
      "outputs": [
        {
          "output_type": "stream",
          "name": "stdout",
          "text": [
            "14\n"
          ]
        }
      ]
    },
    {
      "cell_type": "code",
      "source": [
        "#area of circle\n",
        "r=int(input())\n",
        "area=3.14*r*r\n",
        "print(area)"
      ],
      "metadata": {
        "colab": {
          "base_uri": "https://localhost:8080/"
        },
        "id": "m3UbrufvEbwS",
        "outputId": "e20790f0-915f-4b1d-b80f-b4e1f1f8b065"
      },
      "execution_count": null,
      "outputs": [
        {
          "output_type": "stream",
          "name": "stdout",
          "text": [
            "6\n",
            "113.03999999999999\n"
          ]
        }
      ]
    },
    {
      "cell_type": "code",
      "source": [
        "x=int(input())\n",
        "a=18\n",
        "print(\"eligible\",x>=a)\n",
        "print(\"not eligible\",x<=a)"
      ],
      "metadata": {
        "colab": {
          "base_uri": "https://localhost:8080/"
        },
        "id": "VrYJbNF9DGj8",
        "outputId": "0733ca6a-96b1-42cb-fdff-3682ffa9f76f"
      },
      "execution_count": null,
      "outputs": [
        {
          "output_type": "stream",
          "name": "stdout",
          "text": [
            "25\n",
            "eligible True\n",
            "not eligible False\n"
          ]
        }
      ]
    },
    {
      "cell_type": "code",
      "source": [
        "x=int(input())\n",
        "print(\"even\",x%2==0)\n",
        "print(\"odd\",x%2!=0)"
      ],
      "metadata": {
        "colab": {
          "base_uri": "https://localhost:8080/"
        },
        "id": "_rk9xl9YIEqa",
        "outputId": "42e90fda-3586-41b5-efff-f681a09e8f23"
      },
      "execution_count": null,
      "outputs": [
        {
          "output_type": "stream",
          "name": "stdout",
          "text": [
            "6\n",
            "even True\n",
            "odd False\n"
          ]
        }
      ]
    },
    {
      "cell_type": "code",
      "source": [
        "a=int(input (\"enter first number:\"))\n",
        "b=int(input (\"enter second number:\"))\n",
        "c=input(\"enter operant\")\n",
        "if(c==\"+\"):\n",
        " print(\"sumis\",a+b)\n",
        "elif(c==\"-\"):\n",
        " print (\"diff is\",a-b)\n",
        "elif(c==\"*\"):\n",
        " print(\"pro is\", a*b)\n",
        "elif(c==\"/\"):\n",
        " print (\"divi is\", a/b)\n",
        "elif(c==\"%\"):\n",
        " print(\"per is\",a%b)"
      ],
      "metadata": {
        "id": "3B7dVUsjOsRB",
        "colab": {
          "base_uri": "https://localhost:8080/"
        },
        "outputId": "dcd548d1-9963-469a-ae7e-af42e0c1d06b"
      },
      "execution_count": null,
      "outputs": [
        {
          "output_type": "stream",
          "name": "stdout",
          "text": [
            "enter first number:7\n",
            "enter second number:8\n",
            "enter operant+\n",
            "sumis 15\n"
          ]
        }
      ]
    },
    {
      "cell_type": "code",
      "source": [
        "  a=(int(input()))\n",
        "  b=(int(input()))\n",
        "  if(a%2==0 and b%3==0 ):\n",
        "    print(\"fizzbuzz\")\n",
        "  elif(a%2==0):\n",
        "    print(\"fizz\")\n",
        "  elif(b%3==0):\n",
        "    print(\"buzz\")\n",
        "  else:\n",
        "    print(\"no value is found\")\n"
      ],
      "metadata": {
        "colab": {
          "base_uri": "https://localhost:8080/"
        },
        "id": "jS39dpZh3A-W",
        "outputId": "bd21d7c1-df5c-4246-ad00-09a865efdae0"
      },
      "execution_count": null,
      "outputs": [
        {
          "output_type": "stream",
          "name": "stdout",
          "text": [
            "3\n",
            "6\n",
            "buzz\n"
          ]
        }
      ]
    },
    {
      "cell_type": "code",
      "source": [
        "a=int(input())\n",
        "if(a<10):\n",
        "  print(\"true\")\n",
        "else:\n",
        "  print(\"false\")"
      ],
      "metadata": {
        "id": "PaaWjcC54OO9",
        "colab": {
          "base_uri": "https://localhost:8080/"
        },
        "outputId": "998b70b4-0d1e-44b3-d980-59c5b83b9cac"
      },
      "execution_count": null,
      "outputs": [
        {
          "output_type": "stream",
          "name": "stdout",
          "text": [
            "3\n",
            "true\n"
          ]
        }
      ]
    },
    {
      "cell_type": "code",
      "source": [
        "a=input()\n",
        "if(a==\"greenball\"):\n",
        "  print(\"found\")\n",
        "else:\n",
        "  print(\"not found\")"
      ],
      "metadata": {
        "colab": {
          "base_uri": "https://localhost:8080/"
        },
        "id": "P2Jm9YQrC_1s",
        "outputId": "b619bbb9-424f-4887-8dbc-da8f0e54aaa3"
      },
      "execution_count": null,
      "outputs": [
        {
          "output_type": "stream",
          "name": "stdout",
          "text": [
            "8\n",
            "not found\n"
          ]
        }
      ]
    },
    {
      "cell_type": "code",
      "source": [
        "a=int(input())\n",
        "if(a>10):\n",
        "  print(\"a is greater than 10\")\n",
        "elif(a==10):\n",
        "  print(\"a is equal 10\")\n",
        "else:\n",
        "  print(\"a is less than 10\")"
      ],
      "metadata": {
        "id": "JTUA2SP1FCSo",
        "colab": {
          "base_uri": "https://localhost:8080/"
        },
        "outputId": "ee00169d-5baa-49db-9d08-45cfb99808ef"
      },
      "execution_count": null,
      "outputs": [
        {
          "output_type": "stream",
          "name": "stdout",
          "text": [
            "5\n",
            "a is less than 10\n"
          ]
        }
      ]
    },
    {
      "cell_type": "code",
      "source": [
        "a=int(input())\n",
        "if(a==20):\n",
        "  print(\"charge the phone\")\n",
        "elif(a==50):\n",
        "  print(\"use limited\")\n",
        "else:\n",
        "  print(\"use the phone\")"
      ],
      "metadata": {
        "colab": {
          "base_uri": "https://localhost:8080/"
        },
        "id": "W3bar5CzI-8Y",
        "outputId": "8dc73713-b15f-408a-aa80-bbf192203633"
      },
      "execution_count": null,
      "outputs": [
        {
          "output_type": "stream",
          "name": "stdout",
          "text": [
            "65\n",
            "use the phone\n"
          ]
        }
      ]
    },
    {
      "cell_type": "code",
      "source": [
        "#loops"
      ],
      "metadata": {
        "id": "2jax2t-8PCsl"
      },
      "execution_count": null,
      "outputs": []
    },
    {
      "cell_type": "code",
      "source": [
        "for i in range(2,10,2):\n",
        "  print(i)"
      ],
      "metadata": {
        "colab": {
          "base_uri": "https://localhost:8080/"
        },
        "id": "IJfcQPwZMJvN",
        "outputId": "baeeebec-0dad-427a-8c3a-2f46914f8ea9"
      },
      "execution_count": null,
      "outputs": [
        {
          "output_type": "stream",
          "name": "stdout",
          "text": [
            "2\n",
            "4\n",
            "6\n",
            "8\n"
          ]
        }
      ]
    },
    {
      "cell_type": "code",
      "source": [
        "range=[1,2,3,4,5,6,7,8,9,0]\n",
        "for i in range:\n",
        "  print(i)"
      ],
      "metadata": {
        "colab": {
          "base_uri": "https://localhost:8080/"
        },
        "id": "-H3kHxzOTVIG",
        "outputId": "8d1e8a11-eb5a-479d-e948-10e3acedb1a6"
      },
      "execution_count": null,
      "outputs": [
        {
          "output_type": "stream",
          "name": "stdout",
          "text": [
            "1\n",
            "2\n",
            "3\n",
            "4\n",
            "5\n",
            "6\n",
            "7\n",
            "8\n",
            "9\n",
            "0\n"
          ]
        }
      ]
    },
    {
      "cell_type": "code",
      "source": [
        "fruit=[\"apple\",\"banana\",\"cherry\"]\n",
        "for fruit in fruit:\n",
        "  print(fruit)"
      ],
      "metadata": {
        "colab": {
          "base_uri": "https://localhost:8080/"
        },
        "id": "Qi5eK3yoSHm-",
        "outputId": "79f6e005-5814-4e1d-93fc-3660d3a21014"
      },
      "execution_count": null,
      "outputs": [
        {
          "output_type": "stream",
          "name": "stdout",
          "text": [
            "apple\n",
            "banana\n",
            "cherry\n"
          ]
        }
      ]
    },
    {
      "cell_type": "code",
      "source": [
        "fruit=(\"apple\",\"banana\",\"cherry\")\n",
        "for i in fruit:\n",
        "  print(i)"
      ],
      "metadata": {
        "colab": {
          "base_uri": "https://localhost:8080/"
        },
        "id": "D9BJme7qSi3e",
        "outputId": "b15f802c-fcaa-4469-cef3-b6de5027ba76"
      },
      "execution_count": null,
      "outputs": [
        {
          "output_type": "stream",
          "name": "stdout",
          "text": [
            "apple\n",
            "banana\n",
            "cherry\n"
          ]
        }
      ]
    },
    {
      "cell_type": "code",
      "source": [
        "a=int(input())\n",
        "for i in range(a):\n",
        "    print(\"*\"*a)"
      ],
      "metadata": {
        "id": "B0a9CRVVFpzs",
        "outputId": "009bd3eb-15ef-48d6-fb35-2e089c748de1",
        "colab": {
          "base_uri": "https://localhost:8080/"
        }
      },
      "execution_count": null,
      "outputs": [
        {
          "output_type": "stream",
          "name": "stdout",
          "text": [
            "6\n",
            "******\n",
            "******\n",
            "******\n",
            "******\n",
            "******\n",
            "******\n"
          ]
        }
      ]
    },
    {
      "cell_type": "code",
      "source": [
        "n=int(input())\n",
        "for i in range(n):\n",
        " for i in range(n):\n",
        "  print(\"*\",end=\" \")\n",
        " print()"
      ],
      "metadata": {
        "colab": {
          "base_uri": "https://localhost:8080/"
        },
        "id": "ziWopgZsIsNA",
        "outputId": "2a73a79c-d023-466b-aeb3-f6a10fe5aa9f"
      },
      "execution_count": null,
      "outputs": [
        {
          "output_type": "stream",
          "name": "stdout",
          "text": [
            "5\n",
            "* * * * * \n",
            "* * * * * \n",
            "* * * * * \n",
            "* * * * * \n",
            "* * * * * \n"
          ]
        }
      ]
    },
    {
      "cell_type": "code",
      "source": [
        "n=int(input())\n",
        "for i in range(n):\n",
        "  for j in range(n):\n",
        "    print(int(j),end=\" \")\n",
        "print()"
      ],
      "metadata": {
        "colab": {
          "base_uri": "https://localhost:8080/"
        },
        "id": "p9dEd4rWK0G1",
        "outputId": "66d41dc9-91a7-40ff-acd9-118dced2e432"
      },
      "execution_count": null,
      "outputs": [
        {
          "output_type": "stream",
          "name": "stdout",
          "text": [
            "6\n",
            "0 1 2 3 4 5 0 1 2 3 4 5 0 1 2 3 4 5 0 1 2 3 4 5 0 1 2 3 4 5 0 1 2 3 4 5 \n"
          ]
        }
      ]
    },
    {
      "cell_type": "code",
      "source": [
        "\n",
        "\n",
        "Okn=int(input())\n",
        "for i in range(n+i,n):\n",
        "  print(\"*\",end=\" \")\n",
        "print(i)"
      ],
      "metadata": {
        "colab": {
          "base_uri": "https://localhost:8080/",
          "height": 294
        },
        "id": "RBwP0l9feWNY",
        "outputId": "0b23ac15-9338-4dca-b06d-c592234b388e"
      },
      "execution_count": null,
      "outputs": [
        {
          "name": "stdout",
          "output_type": "stream",
          "text": [
            "5\n"
          ]
        },
        {
          "output_type": "error",
          "ename": "NameError",
          "evalue": "name 'i' is not defined",
          "traceback": [
            "\u001b[0;31m---------------------------------------------------------------------------\u001b[0m",
            "\u001b[0;31mNameError\u001b[0m                                 Traceback (most recent call last)",
            "\u001b[0;32m/tmp/ipython-input-8-2833385129.py\u001b[0m in \u001b[0;36m<cell line: 0>\u001b[0;34m()\u001b[0m\n\u001b[1;32m      1\u001b[0m \u001b[0mn\u001b[0m\u001b[0;34m=\u001b[0m\u001b[0mint\u001b[0m\u001b[0;34m(\u001b[0m\u001b[0minput\u001b[0m\u001b[0;34m(\u001b[0m\u001b[0;34m)\u001b[0m\u001b[0;34m)\u001b[0m\u001b[0;34m\u001b[0m\u001b[0;34m\u001b[0m\u001b[0m\n\u001b[0;32m----> 2\u001b[0;31m \u001b[0;32mfor\u001b[0m \u001b[0mi\u001b[0m \u001b[0;32min\u001b[0m \u001b[0mrange\u001b[0m\u001b[0;34m(\u001b[0m\u001b[0mn\u001b[0m\u001b[0;34m+\u001b[0m\u001b[0mi\u001b[0m\u001b[0;34m,\u001b[0m\u001b[0mn\u001b[0m\u001b[0;34m)\u001b[0m\u001b[0;34m:\u001b[0m\u001b[0;34m\u001b[0m\u001b[0;34m\u001b[0m\u001b[0m\n\u001b[0m\u001b[1;32m      3\u001b[0m   \u001b[0mprint\u001b[0m\u001b[0;34m(\u001b[0m\u001b[0;34m\"*\"\u001b[0m\u001b[0;34m,\u001b[0m\u001b[0mend\u001b[0m\u001b[0;34m=\u001b[0m\u001b[0;34m\" \"\u001b[0m\u001b[0;34m)\u001b[0m\u001b[0;34m\u001b[0m\u001b[0;34m\u001b[0m\u001b[0m\n\u001b[1;32m      4\u001b[0m \u001b[0mprint\u001b[0m\u001b[0;34m(\u001b[0m\u001b[0mi\u001b[0m\u001b[0;34m)\u001b[0m\u001b[0;34m\u001b[0m\u001b[0;34m\u001b[0m\u001b[0m\n",
            "\u001b[0;31mNameError\u001b[0m: name 'i' is not defined"
          ]
        }
      ]
    },
    {
      "cell_type": "code",
      "source": [
        "n = int(input())\n",
        "for i in range (1, n+1):\n",
        "    print(\" * \" * i)"
      ],
      "metadata": {
        "id": "drPN2YyffZqk",
        "colab": {
          "base_uri": "https://localhost:8080/"
        },
        "outputId": "a4a49347-1b16-4a1a-c6ef-bda78e2021bc"
      },
      "execution_count": null,
      "outputs": [
        {
          "output_type": "stream",
          "name": "stdout",
          "text": [
            "5\n",
            " * \n",
            " *  * \n",
            " *  *  * \n",
            " *  *  *  * \n",
            " *  *  *  *  * \n"
          ]
        }
      ]
    },
    {
      "cell_type": "code",
      "source": [
        "n =int( input())\n",
        "for i in range (n,0,-1):\n",
        "    print(\" * \" * i)"
      ],
      "metadata": {
        "colab": {
          "base_uri": "https://localhost:8080/"
        },
        "id": "Os13SsKIRnKP",
        "outputId": "3b429207-cc14-4eb2-ac05-3790994cfbfd"
      },
      "execution_count": null,
      "outputs": [
        {
          "output_type": "stream",
          "name": "stdout",
          "text": [
            "5\n",
            " *  *  *  *  * \n",
            " *  *  *  * \n",
            " *  *  * \n",
            " *  * \n",
            " * \n"
          ]
        }
      ]
    },
    {
      "cell_type": "code",
      "source": [
        "n =int(input ())\n",
        "for i in range (n, 0,-1):\n",
        "    print(\" \" * (n - i) + \"*\" * (2*i-1))"
      ],
      "metadata": {
        "colab": {
          "base_uri": "https://localhost:8080/"
        },
        "id": "IzN8_NFQNlbm",
        "outputId": "d7160aef-c9dc-43d3-fbfb-d778da8bbbbb"
      },
      "execution_count": null,
      "outputs": [
        {
          "output_type": "stream",
          "name": "stdout",
          "text": [
            "5\n",
            "*********\n",
            " *******\n",
            "  *****\n",
            "   ***\n",
            "    *\n"
          ]
        }
      ]
    },
    {
      "cell_type": "code",
      "source": [
        "n=int(input ())\n",
        "for i in range (1,n+1):\n",
        "    print (\" \"*(n-i)+'*'*(2*i-1))"
      ],
      "metadata": {
        "colab": {
          "base_uri": "https://localhost:8080/"
        },
        "id": "fk0QRffRN70O",
        "outputId": "1a975412-2838-480f-fed5-d3e359aa7857"
      },
      "execution_count": null,
      "outputs": [
        {
          "output_type": "stream",
          "name": "stdout",
          "text": [
            "5\n",
            "    *\n",
            "   ***\n",
            "  *****\n",
            " *******\n",
            "*********\n"
          ]
        }
      ]
    },
    {
      "cell_type": "code",
      "source": [
        "for x in range (65,70):\n",
        "  for y in range(65,x+1):\n",
        "     print(chr(x),end=\" \")\n",
        "  print ()"
      ],
      "metadata": {
        "colab": {
          "base_uri": "https://localhost:8080/"
        },
        "id": "_TpJbrSBPAtq",
        "outputId": "02a09ef4-615e-4b36-b938-d0471bf53679"
      },
      "execution_count": null,
      "outputs": [
        {
          "output_type": "stream",
          "name": "stdout",
          "text": [
            "A \n",
            "B B \n",
            "C C C \n",
            "D D D D \n",
            "E E E E E \n"
          ]
        }
      ]
    },
    {
      "cell_type": "code",
      "source": [
        "for x in range (1,5):\n",
        "  for y in range(1,x+1):\n",
        "     print(y,end=\" \")\n",
        "  print ()"
      ],
      "metadata": {
        "colab": {
          "base_uri": "https://localhost:8080/"
        },
        "id": "nbYSn8WFPDqy",
        "outputId": "d03ae42e-d7fc-4f7b-8d7a-7f5d80d1689c"
      },
      "execution_count": null,
      "outputs": [
        {
          "output_type": "stream",
          "name": "stdout",
          "text": [
            "1 \n",
            "1 2 \n",
            "1 2 3 \n",
            "1 2 3 4 \n"
          ]
        }
      ]
    },
    {
      "cell_type": "code",
      "source": [
        "for i in range (65,69):\n",
        "  for j in range(65,69):\n",
        "      print(chr(i),end=\" \")\n",
        "  print()"
      ],
      "metadata": {
        "colab": {
          "base_uri": "https://localhost:8080/"
        },
        "id": "PhPiR6B0QJrf",
        "outputId": "9a12b0e0-7d14-43ac-d419-2c38ff60c0b5"
      },
      "execution_count": null,
      "outputs": [
        {
          "output_type": "stream",
          "name": "stdout",
          "text": [
            "A A A A \n",
            "B B B B \n",
            "C C C C \n",
            "D D D D \n"
          ]
        }
      ]
    },
    {
      "cell_type": "code",
      "source": [
        "for i in range(1,5):\n",
        "  for j in range(1,i-1):\n",
        "     print(\"*\",end=\" \")\n",
        "  print()"
      ],
      "metadata": {
        "colab": {
          "base_uri": "https://localhost:8080/"
        },
        "id": "HglgNCkTYPpQ",
        "outputId": "6878852f-13d8-4a5f-cb09-5e994835b675"
      },
      "execution_count": null,
      "outputs": [
        {
          "output_type": "stream",
          "name": "stdout",
          "text": [
            "\n",
            "\n",
            "* \n",
            "* * \n"
          ]
        }
      ]
    },
    {
      "cell_type": "code",
      "source": [
        "i=0\n",
        "n=int(input())\n",
        "while(i<n):\n",
        "  print(i)\n",
        "  i+=1"
      ],
      "metadata": {
        "colab": {
          "base_uri": "https://localhost:8080/"
        },
        "id": "zAj_1KGcfOQT",
        "outputId": "c4eedec9-21e2-459f-90e1-af162cc88387"
      },
      "execution_count": null,
      "outputs": [
        {
          "output_type": "stream",
          "name": "stdout",
          "text": [
            "5\n",
            "0\n",
            "1\n",
            "2\n",
            "3\n",
            "4\n"
          ]
        }
      ]
    },
    {
      "cell_type": "code",
      "source": [
        "for i in range(1,11):\n",
        "  print(i)"
      ],
      "metadata": {
        "colab": {
          "base_uri": "https://localhost:8080/"
        },
        "id": "JYXMRI_Ah-aZ",
        "outputId": "5a287668-977b-4f03-b282-c62ac857717c"
      },
      "execution_count": null,
      "outputs": [
        {
          "output_type": "stream",
          "name": "stdout",
          "text": [
            "1\n",
            "2\n",
            "3\n",
            "4\n",
            "5\n",
            "6\n",
            "7\n",
            "8\n",
            "9\n",
            "10\n"
          ]
        }
      ]
    },
    {
      "cell_type": "code",
      "source": [
        "n=int(input())\n",
        "for i in range(1,n):\n",
        "  print(i)"
      ],
      "metadata": {
        "colab": {
          "base_uri": "https://localhost:8080/"
        },
        "id": "h9GAuPWPiRc2",
        "outputId": "2b077ac0-8bbf-45ee-cfc7-b6d94373f282"
      },
      "execution_count": null,
      "outputs": [
        {
          "output_type": "stream",
          "name": "stdout",
          "text": [
            "8\n",
            "1\n",
            "2\n",
            "3\n",
            "4\n",
            "5\n",
            "6\n",
            "7\n"
          ]
        }
      ]
    },
    {
      "cell_type": "code",
      "source": [
        "n=int(input())\n",
        "for i in range(n):\n",
        "    if(n==4):\n",
        "      continue\n",
        "    print(i)"
      ],
      "metadata": {
        "colab": {
          "base_uri": "https://localhost:8080/"
        },
        "id": "83VVg7sRjD4N",
        "outputId": "019b2971-f47d-4841-be93-d5a264f5c758"
      },
      "execution_count": null,
      "outputs": [
        {
          "output_type": "stream",
          "name": "stdout",
          "text": [
            "7\n",
            "0\n",
            "1\n",
            "2\n",
            "3\n",
            "4\n",
            "5\n",
            "6\n"
          ]
        }
      ]
    },
    {
      "cell_type": "code",
      "source": [
        "n=int(input())\n",
        "for i in range(n):\n",
        "    if(n==6):\n",
        "      break\n",
        "    print(i)"
      ],
      "metadata": {
        "colab": {
          "base_uri": "https://localhost:8080/"
        },
        "id": "ZDM2ys9SkgHI",
        "outputId": "850452d0-3797-43df-f155-5606423f88e6"
      },
      "execution_count": null,
      "outputs": [
        {
          "output_type": "stream",
          "name": "stdout",
          "text": [
            "7\n",
            "0\n",
            "1\n",
            "2\n",
            "3\n",
            "4\n",
            "5\n",
            "6\n"
          ]
        }
      ]
    }
  ]
}